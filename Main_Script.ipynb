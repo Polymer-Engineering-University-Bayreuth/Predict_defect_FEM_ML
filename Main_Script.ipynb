{
 "cells": [
  {
   "cell_type": "markdown",
   "id": "c4a689f5",
   "metadata": {},
   "source": [
    "# This code is part of the paper:\n",
    "\"Fatigue damage reconstruction in glass/epoxy composites via thermal analysis and machine learning: A theoretical study”, by Rodrigo Q. Albuquerque, Ali Sarhadi, Martin Demleitner, Holger Ruckdäschel and Martin A. Eder. \n",
    "\n",
    "# Instructions\n",
    "\n",
    "Execute all cells below to import the dataset and perform predictions on the test set using the best preßtrained model used in the paper.\n",
    "\n",
    "#### Code written by R.Q.Albuquerque@8December2023"
   ]
  },
  {
   "cell_type": "code",
   "execution_count": 2,
   "id": "45895506",
   "metadata": {},
   "outputs": [],
   "source": [
    "######## LIBRARIES #########\n",
    "import numpy as np\n",
    "import joblib\n",
    "import matplotlib.pyplot as plt"
   ]
  },
  {
   "cell_type": "markdown",
   "id": "ab69bf97",
   "metadata": {},
   "source": [
    "#### 1) Import the training and test sets"
   ]
  },
  {
   "cell_type": "code",
   "execution_count": 7,
   "id": "b5b11ae4",
   "metadata": {},
   "outputs": [],
   "source": [
    "# Training and test sets already have every 5th pixel of the original images as a long 1D array\n",
    "X_train = np.load('X_train.npy') # 85% of the dataset\n",
    "X_test = np.load('X_test.npy')\n",
    "y_train = np.load('y_train.npy')\n",
    "y_test = np.load('y_test.npy')"
   ]
  },
  {
   "cell_type": "markdown",
   "metadata": {},
   "source": [
    "#### 2) Import the best pre-trained models and scalers, then scale X_test"
   ]
  },
  {
   "cell_type": "code",
   "execution_count": 8,
   "metadata": {},
   "outputs": [],
   "source": [
    "# import the GPR models\n",
    "model_s11 = joblib.load('gpr_s11')\n",
    "model_s33 = joblib.load('gpr_s33')\n",
    "model_sumeig = joblib.load('gpr_sumeig')\n",
    "model_tmax = joblib.load('gpr_tmax')\n",
    "\n",
    "# import the X and y scalers\n",
    "xscaler = joblib.load('xscaler_xtrain')\n",
    "yscaler_s11 = joblib.load('yscaler_s11')\n",
    "yscaler_s33 = joblib.load('yscaler_s33')\n",
    "yscaler_sumeig = joblib.load('yscaler_sumeig')\n",
    "yscaler_tmax = joblib.load('yscaler_tmax')\n",
    "\n",
    "# pre-preprocess X_test\n",
    "X_test_s = xscaler.transform(X_test)"
   ]
  },
  {
   "cell_type": "markdown",
   "metadata": {},
   "source": [
    "#### 3) Perform predictions on the test set"
   ]
  },
  {
   "cell_type": "code",
   "execution_count": 9,
   "metadata": {},
   "outputs": [],
   "source": [
    "# predict s11\n",
    "s11_pred_s = model_s11.predict(X_test_s)\n",
    "s11_pred = yscaler_s11.inverse_transform(s11_pred_s.reshape(-1,1))\n",
    "s11_true = y_test[:,0]\n",
    "\n",
    "# predict s33\n",
    "s33_pred_s = model_s33.predict(X_test_s)\n",
    "s33_pred = yscaler_s33.inverse_transform(s33_pred_s.reshape(-1,1))\n",
    "s33_true = y_test[:,2]\n",
    "\n",
    "# predict SumEig\n",
    "sumeig_pred_s = model_sumeig.predict(X_test_s)\n",
    "sumeig_pred = yscaler_sumeig.inverse_transform(sumeig_pred_s.reshape(-1,1))\n",
    "sumeig_true = y_test[:,8]\n",
    "\n",
    "# predict Tmax\n",
    "tmax_pred_s = model_tmax.predict(X_test_s)\n",
    "tmax_pred = yscaler_tmax.inverse_transform(tmax_pred_s.reshape(-1,1))\n",
    "tmax_true = y_test[:,9]"
   ]
  },
  {
   "cell_type": "markdown",
   "metadata": {},
   "source": [
    "#### 3) Plot the predictions"
   ]
  },
  {
   "cell_type": "code",
   "execution_count": 11,
   "metadata": {},
   "outputs": [],
   "source": [
    "names = ['Tmax', 's11', 's33', 'SumEig']\n",
    "true_targets = [tmax_true, s11_true, s33_true, sumeig_true]\n",
    "pred_targets = [tmax_pred, s11_pred, s33_pred, sumeig_pred]\n",
    "\n",
    "plt.figure(figsize=(8,8))\n",
    "for i, (name, pred, true) in enumerate(zip(names, true_targets, pred_targets)):\n",
    "    plt.subplot(2,2,i+1)\n",
    "    plt.plot(pred, true, 'bo')\n",
    "    low,high = true.min(), true.max()\n",
    "    plt.plot([low,high],[low,high],'-r')\n",
    "    plt.xlabel('Predicted target')\n",
    "    plt.ylabel('True target')\n",
    "    plt.title(f'Property = {name}')\n",
    "plt.tight_layout()"
   ]
  }
 ],
 "metadata": {
  "kernelspec": {
   "display_name": "Python 3 (ipykernel)",
   "language": "python",
   "name": "python3"
  },
  "language_info": {
   "codemirror_mode": {
    "name": "ipython",
    "version": 3
   },
   "file_extension": ".py",
   "mimetype": "text/x-python",
   "name": "python",
   "nbconvert_exporter": "python",
   "pygments_lexer": "ipython3",
   "version": "3.11.5"
  }
 },
 "nbformat": 4,
 "nbformat_minor": 5
}
